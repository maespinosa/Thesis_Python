{
 "cells": [
  {
   "cell_type": "code",
   "execution_count": 73,
   "metadata": {
    "collapsed": false
   },
   "outputs": [
    {
     "name": "stdout",
     "output_type": "stream",
     "text": [
      "We failed to reach a server.\n",
      "Reason:  Not Found\n",
      "We failed to reach a server.\n",
      "Reason:  [WinError 10060] A connection attempt failed because the connected party did not properly respond after a period of time, or established connection failed because connected host has failed to respond\n",
      "We failed to reach a server.\n",
      "Reason:  Not Found\n",
      "We failed to reach a server.\n",
      "Reason:  Not Found\n",
      "We failed to reach a server.\n",
      "Reason:  Not Found\n",
      "We failed to reach a server.\n",
      "Reason:  Forbidden\n",
      "We failed to reach a server.\n",
      "Reason:  [Errno 11004] getaddrinfo failed\n",
      "We failed to reach a server.\n",
      "Reason:  Not Found\n",
      "We failed to reach a server.\n",
      "Reason:  Not Found\n",
      "We failed to reach a server.\n",
      "Reason:  [Errno 11004] getaddrinfo failed\n",
      "We failed to reach a server.\n",
      "Reason:  [Errno 11004] getaddrinfo failed\n",
      "We failed to reach a server.\n",
      "Reason:  Not Found\n",
      "We failed to reach a server.\n",
      "Reason:  [WinError 10060] A connection attempt failed because the connected party did not properly respond after a period of time, or established connection failed because connected host has failed to respond\n",
      "We failed to reach a server.\n",
      "Reason:  Not Found\n",
      "We failed to reach a server.\n",
      "Reason:  Not Found\n"
     ]
    }
   ],
   "source": [
    "import urllib.request\n",
    "import os,sys\n",
    "import shutil\n",
    "from urllib.request import Request, urlopen\n",
    "from urllib.error import URLError \n",
    "\n",
    "\n",
    "file = open('fall11_urls.txt','r')\n",
    "\n",
    "for i in range(0,50):\n",
    "    file_line = file.readline()\n",
    "    #print(file_line)\n",
    "    test = file_line.split('\\t')\n",
    "    #print(test)\n",
    "\n",
    "    file_name = test[0]+\".jpg\"\n",
    "    #print(file_name)\n",
    "    \n",
    "    req = urllib.request.Request(test[1])\n",
    "    try:\n",
    "        response = urllib.request.urlopen(req)\n",
    "        \n",
    "    except URLError as e: \n",
    "        if hasattr(e,'reason'): \n",
    "            print('We failed to reach a server.')\n",
    "            print('Reason: ', e.reason)\n",
    "        elif hasattr(e,'code'): \n",
    "            print('The server couldn\\'t fulfill the request.')\n",
    "            print('Error code: ', e.code)\n",
    "    else: \n",
    "\n",
    "        local_filename, headers = urllib.request.urlretrieve(test[1])\n",
    "        html = open(local_filename)\n",
    "\n",
    "        #print('html = ', html)\n",
    "        #print(local_filename)\n",
    "        #print(headers)\n",
    "\n",
    "        shutil.copyfile(local_filename,test[0] + '.jpg')\n",
    "        urllib.request.urlcleanup()\n",
    "\n",
    "\n"
   ]
  },
  {
   "cell_type": "code",
   "execution_count": null,
   "metadata": {
    "collapsed": true
   },
   "outputs": [],
   "source": []
  }
 ],
 "metadata": {
  "anaconda-cloud": {},
  "kernelspec": {
   "display_name": "Python [default]",
   "language": "python",
   "name": "python3"
  },
  "language_info": {
   "codemirror_mode": {
    "name": "ipython",
    "version": 3
   },
   "file_extension": ".py",
   "mimetype": "text/x-python",
   "name": "python",
   "nbconvert_exporter": "python",
   "pygments_lexer": "ipython3",
   "version": "3.5.2"
  }
 },
 "nbformat": 4,
 "nbformat_minor": 0
}
