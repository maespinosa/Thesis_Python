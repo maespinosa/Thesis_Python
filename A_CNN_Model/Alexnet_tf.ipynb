{
 "cells": [
  {
   "cell_type": "code",
   "execution_count": null,
   "metadata": {
    "collapsed": false
   },
   "outputs": [],
   "source": [
    "# As usual, a bit of setup\n",
    "import os\n",
    "import pickle as pickle\n",
    "\n",
    "import sys\n",
    "sys.path.append('C:/Users/Marks-M3800/Documents/A2/assignment2')\n",
    "sys.path.append('C:/Users/Marks-M3800/Documents/A_CNN_Model')\n",
    "import numpy as np\n",
    "\n",
    "#net_data = np.load('bvlc_alexnet.npy', mmap_mode = 'rb',allow_pickle=True, encoding=\"latin1\")\n",
    "net_data = np.load('bvlc_alexnet.npy')\n",
    "\n",
    "for k, v in net_data.items():\n",
    "  print ('%s: ' % k, v.shape)\n"
   ]
  },
  {
   "cell_type": "code",
   "execution_count": null,
   "metadata": {
    "collapsed": true
   },
   "outputs": [],
   "source": []
  }
 ],
 "metadata": {
  "anaconda-cloud": {},
  "kernelspec": {
   "display_name": "Python [default]",
   "language": "python",
   "name": "python3"
  },
  "language_info": {
   "codemirror_mode": {
    "name": "ipython",
    "version": 3
   },
   "file_extension": ".py",
   "mimetype": "text/x-python",
   "name": "python",
   "nbconvert_exporter": "python",
   "pygments_lexer": "ipython3",
   "version": "3.5.2"
  }
 },
 "nbformat": 4,
 "nbformat_minor": 0
}
